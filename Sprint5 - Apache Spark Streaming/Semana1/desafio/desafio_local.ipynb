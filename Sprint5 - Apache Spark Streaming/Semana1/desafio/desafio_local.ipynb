{
 "cells": [
  {
   "cell_type": "markdown",
   "metadata": {},
   "source": [
    "## Imports"
   ]
  },
  {
   "cell_type": "code",
   "execution_count": 13,
   "metadata": {},
   "outputs": [],
   "source": [
    "\n",
    "from pyspark.sql import SparkSession\n",
    "from pyspark.sql.types import *\n",
    "from pyspark.sql import functions as F\n",
    "from pyspark.sql.functions import *\n",
    "spark = SparkSession.builder.appName(\"Loads raw to ref\").getOrCreate()"
   ]
  },
  {
   "cell_type": "markdown",
   "metadata": {},
   "source": [
    "Lendo o arquivo"
   ]
  },
  {
   "cell_type": "code",
   "execution_count": 14,
   "metadata": {},
   "outputs": [],
   "source": [
    "df = spark.read.csv('04112022.csv', header=True, inferSchema=True, sep=\"\\u0001\")"
   ]
  },
  {
   "cell_type": "markdown",
   "metadata": {},
   "source": [
    "Função UDF para verificar se o primeiro emoji encontrado é positivo ou negativo, retorna uma string('positivo','negativo' ou 'erro')"
   ]
  },
  {
   "cell_type": "code",
   "execution_count": 15,
   "metadata": {},
   "outputs": [],
   "source": [
    "def check_first(text):\n",
    "    pos_emojis = [':D',':)',':]',':}']\n",
    "    neg_emojis = [':c',':(',':[',':{']\n",
    "    index_pos = 1000\n",
    "    index_neg = 1000\n",
    "    for emoji_pos in pos_emojis:\n",
    "        temp = text.find(emoji_pos)\n",
    "        if temp < index_pos and temp != -1:\n",
    "            index_pos = temp\n",
    "    for emoji_neg in neg_emojis:\n",
    "        temp = text.find(emoji_neg)\n",
    "        if temp < index_neg and temp != -1:\n",
    "            index_neg = temp\n",
    "    result = 'positivo' if index_neg > index_pos and index_neg != 1000 else('negativo' if index_neg < index_pos and index_pos != 1000 else 'erro')\n",
    "    return result\n",
    "\n",
    "checar = udf(check_first, StringType())"
   ]
  },
  {
   "cell_type": "markdown",
   "metadata": {},
   "source": [
    "Retorna uma string contendo o primeiro emoji encontrado"
   ]
  },
  {
   "cell_type": "code",
   "execution_count": 16,
   "metadata": {},
   "outputs": [],
   "source": [
    "def get_emogi(text):\n",
    "    emojis = [':D',':)',':]',':}',':c',':(',':[',':{']\n",
    "    index = 1000\n",
    "    emoji_r = ''\n",
    "    for emoji in emojis:\n",
    "        temp = text.find(emoji)\n",
    "        if temp < index and temp != -1:\n",
    "            emoji_r = emoji\n",
    "            index = temp\n",
    "    return emoji_r \n",
    "\n",
    "getter = udf(get_emogi, StringType())"
   ]
  },
  {
   "cell_type": "markdown",
   "metadata": {},
   "source": [
    "Define os emojis negativos e positivos a serem considerados"
   ]
  },
  {
   "cell_type": "code",
   "execution_count": 17,
   "metadata": {},
   "outputs": [],
   "source": [
    "regex_pos = \":\\)|:D|:\\]|:\\}\"\n",
    "regex_neg = \":\\[|:c|:\\(|:\\{\""
   ]
  },
  {
   "cell_type": "code",
   "execution_count": 18,
   "metadata": {},
   "outputs": [],
   "source": [
    "\n",
    "df = df.select('*').withColumn(\n",
    "    'sentimento', when(\n",
    "        (col(\"tweet_text\").rlike(regex_pos)) & (col(\"tweet_text\").rlike(regex_neg)), checar('tweet_text')\n",
    "    ).when(\n",
    "        (col(\"tweet_text\").rlike(regex_pos)) & ~(col(\"tweet_text\").rlike(regex_neg)), 'positivo'\n",
    "    ).when(\n",
    "        ~(col(\"tweet_text\").rlike(regex_pos)) & (col(\"tweet_text\").rlike(regex_neg)), 'negativo'\n",
    "    ).when(\n",
    "        ~(col(\"tweet_text\").rlike(regex_pos)) & ~(col(\"tweet_text\").rlike(regex_neg)), 'neutro'\n",
    "    )\n",
    ").withColumn('emoji',\n",
    "    when(\n",
    "       col('sentimento') == 'neutro', 'n/a' \n",
    "    ).otherwise(\n",
    "        getter('tweet_text')\n",
    "    )\n",
    ")\n"
   ]
  },
  {
   "cell_type": "markdown",
   "metadata": {},
   "source": [
    "Limpando bad data detectado"
   ]
  },
  {
   "cell_type": "code",
   "execution_count": 19,
   "metadata": {},
   "outputs": [],
   "source": [
    "df = df.filter(\n",
    "    (df['tweet_date'] != '0002-12-31 00:00:00')\n",
    ")"
   ]
  },
  {
   "cell_type": "markdown",
   "metadata": {},
   "source": [
    "Criando colunas para particionamento"
   ]
  },
  {
   "cell_type": "code",
   "execution_count": 20,
   "metadata": {},
   "outputs": [],
   "source": [
    "\n",
    "df_final = df.withColumn(\"timestamp\", to_timestamp(col(\"tweet_date\"), 'yyyyMMddHHmm')) \\\n",
    "           .withColumn(\"year\", date_format(col(\"timestamp\"), \"yyyy\")) \\\n",
    "           .withColumn(\"month\", date_format(col(\"timestamp\"), \"MM\")) \\\n",
    "           .withColumn(\"day\", date_format(col(\"timestamp\"), \"dd\")) \\\n",
    "           .drop(\"timestamp\")"
   ]
  },
  {
   "cell_type": "markdown",
   "metadata": {},
   "source": [
    "Escrevendo dados"
   ]
  },
  {
   "cell_type": "code",
   "execution_count": 21,
   "metadata": {},
   "outputs": [
    {
     "name": "stderr",
     "output_type": "stream",
     "text": [
      "                                                                                \r"
     ]
    }
   ],
   "source": [
    "df_final.write.partitionBy(\"year\", \"month\", \"day\") \\\n",
    "    .mode(\"overwrite\") \\\n",
    "    .option(\"header\", \"false\").option(\"sep\", \"\\u0001\") \\\n",
    "    .csv('teste')"
   ]
  }
 ],
 "metadata": {
  "kernelspec": {
   "display_name": "Python 3.10.6 64-bit",
   "language": "python",
   "name": "python3"
  },
  "language_info": {
   "codemirror_mode": {
    "name": "ipython",
    "version": 3
   },
   "file_extension": ".py",
   "mimetype": "text/x-python",
   "name": "python",
   "nbconvert_exporter": "python",
   "pygments_lexer": "ipython3",
   "version": "3.10.4"
  },
  "orig_nbformat": 4,
  "vscode": {
   "interpreter": {
    "hash": "916dbcbb3f70747c44a77c7bcd40155683ae19c65e1c03b4aa3499c5328201f1"
   }
  }
 },
 "nbformat": 4,
 "nbformat_minor": 2
}
