{
 "cells": [
  {
   "cell_type": "markdown",
   "metadata": {},
   "source": [
    "# Imports"
   ]
  },
  {
   "cell_type": "code",
   "execution_count": 1,
   "metadata": {},
   "outputs": [
    {
     "name": "stderr",
     "output_type": "stream",
     "text": [
      "Setting default log level to \"WARN\".\n",
      "To adjust logging level use sc.setLogLevel(newLevel). For SparkR, use setLogLevel(newLevel).\n"
     ]
    },
    {
     "name": "stdout",
     "output_type": "stream",
     "text": [
      "22/11/18 14:15:51 WARN NativeCodeLoader: Unable to load native-hadoop library for your platform... using builtin-java classes where applicable\n",
      "22/11/18 14:15:52 WARN Utils: Service 'SparkUI' could not bind on port 4040. Attempting port 4041.\n"
     ]
    },
    {
     "name": "stderr",
     "output_type": "stream",
     "text": [
      "/home/guilherme.cunha/.local/lib/python3.10/site-packages/pyspark/sql/context.py:112: FutureWarning: Deprecated in 3.0.0. Use SparkSession.builder.getOrCreate() instead.\n",
      "  warnings.warn(\n"
     ]
    }
   ],
   "source": [
    "from pyspark.sql import SparkSession\n",
    "from pyspark.sql.functions import *\n",
    "from pyspark.sql.types import *\n",
    "from pyspark import SparkContext, SQLContext\n",
    "spark = SparkSession \\\n",
    "    .builder \\\n",
    "    .appName(\"Sprint 5 - Semana 1\") \\\n",
    "    .getOrCreate()\n",
    "SQLContext = SQLContext(spark.sparkContext)"
   ]
  },
  {
   "cell_type": "markdown",
   "metadata": {},
   "source": [
    "# Exercicíos"
   ]
  },
  {
   "cell_type": "markdown",
   "metadata": {},
   "source": [
    "## Exercicio 1\n",
    "\n",
    "Crie um array de 250 itens e aplique o método reverse para inverter o conteúdo."
   ]
  },
  {
   "cell_type": "markdown",
   "metadata": {},
   "source": [
    "### Forma 1 (convencional)"
   ]
  },
  {
   "cell_type": "markdown",
   "metadata": {},
   "source": [
    "Criando dataframe"
   ]
  },
  {
   "cell_type": "code",
   "execution_count": 2,
   "metadata": {},
   "outputs": [
    {
     "data": {
      "text/plain": [
       "250"
      ]
     },
     "execution_count": 2,
     "metadata": {},
     "output_type": "execute_result"
    }
   ],
   "source": [
    "ex = spark.range(0,250)\n",
    "ex.count()"
   ]
  },
  {
   "cell_type": "markdown",
   "metadata": {},
   "source": [
    "Verificando"
   ]
  },
  {
   "cell_type": "code",
   "execution_count": 3,
   "metadata": {},
   "outputs": [
    {
     "name": "stdout",
     "output_type": "stream",
     "text": [
      "+---+\n",
      "| id|\n",
      "+---+\n",
      "|  0|\n",
      "|  1|\n",
      "|  2|\n",
      "|  3|\n",
      "|  4|\n",
      "|  5|\n",
      "|  6|\n",
      "|  7|\n",
      "|  8|\n",
      "|  9|\n",
      "| 10|\n",
      "| 11|\n",
      "| 12|\n",
      "| 13|\n",
      "| 14|\n",
      "| 15|\n",
      "| 16|\n",
      "| 17|\n",
      "| 18|\n",
      "| 19|\n",
      "+---+\n",
      "only showing top 20 rows\n",
      "\n"
     ]
    }
   ],
   "source": [
    "ex.show()"
   ]
  },
  {
   "cell_type": "markdown",
   "metadata": {},
   "source": [
    "Utilizando o método reverse"
   ]
  },
  {
   "cell_type": "code",
   "execution_count": 4,
   "metadata": {},
   "outputs": [
    {
     "name": "stdout",
     "output_type": "stream",
     "text": [
      "+----------+\n",
      "|id reverso|\n",
      "+----------+\n",
      "|         0|\n",
      "|         1|\n",
      "|         2|\n",
      "|         3|\n",
      "|         4|\n",
      "|         5|\n",
      "|         6|\n",
      "|         7|\n",
      "|         8|\n",
      "|         9|\n",
      "|        01|\n",
      "|        11|\n",
      "|        21|\n",
      "|        31|\n",
      "|        41|\n",
      "|        51|\n",
      "|        61|\n",
      "|        71|\n",
      "|        81|\n",
      "|        91|\n",
      "+----------+\n",
      "only showing top 20 rows\n",
      "\n"
     ]
    }
   ],
   "source": [
    "ex.select(reverse(ex.id).alias('id reverso')).show()"
   ]
  },
  {
   "cell_type": "markdown",
   "metadata": {},
   "source": [
    "### Forma 2 (utilizando UDFs)"
   ]
  },
  {
   "cell_type": "markdown",
   "metadata": {},
   "source": [
    "Criando UDF"
   ]
  },
  {
   "cell_type": "code",
   "execution_count": 5,
   "metadata": {},
   "outputs": [],
   "source": [
    "@udf('int')\n",
    "def reverser(numero: int):\n",
    "    result = ''\n",
    "    numero = str(numero)\n",
    "    result = numero[::-1]\n",
    "    return int(result)"
   ]
  },
  {
   "cell_type": "markdown",
   "metadata": {},
   "source": [
    "Criando coluna através da UDF"
   ]
  },
  {
   "cell_type": "code",
   "execution_count": 6,
   "metadata": {},
   "outputs": [],
   "source": [
    "ex_reverso = ex.withColumn('id reverso', reverser('id')) "
   ]
  },
  {
   "cell_type": "markdown",
   "metadata": {},
   "source": [
    "Verificando"
   ]
  },
  {
   "cell_type": "code",
   "execution_count": 7,
   "metadata": {},
   "outputs": [
    {
     "name": "stdout",
     "output_type": "stream",
     "text": [
      "+---+----------+\n",
      "| id|id reverso|\n",
      "+---+----------+\n",
      "|  0|         0|\n",
      "|  1|         1|\n",
      "|  2|         2|\n",
      "|  3|         3|\n",
      "|  4|         4|\n",
      "|  5|         5|\n",
      "|  6|         6|\n",
      "|  7|         7|\n",
      "|  8|         8|\n",
      "|  9|         9|\n",
      "| 10|         1|\n",
      "| 11|        11|\n",
      "| 12|        21|\n",
      "| 13|        31|\n",
      "| 14|        41|\n",
      "| 15|        51|\n",
      "| 16|        61|\n",
      "| 17|        71|\n",
      "| 18|        81|\n",
      "| 19|        91|\n",
      "+---+----------+\n",
      "only showing top 20 rows\n",
      "\n"
     ]
    },
    {
     "name": "stderr",
     "output_type": "stream",
     "text": [
      "                                                                                \r"
     ]
    }
   ],
   "source": [
    "ex_reverso.show()"
   ]
  },
  {
   "cell_type": "markdown",
   "metadata": {},
   "source": [
    "## Exercicio 2\n",
    "\n",
    "Crie uma lista de 20 animais, ordene-os e itere para imprimi-las individualmente cada um deles, depois salve num arquivo texto emformato CSV"
   ]
  },
  {
   "cell_type": "markdown",
   "metadata": {},
   "source": [
    "Criando lista"
   ]
  },
  {
   "cell_type": "code",
   "execution_count": 8,
   "metadata": {},
   "outputs": [],
   "source": [
    "list = ['Macaco', 'Arara', 'Cachorro', 'Gato', 'Tamandua', \n",
    "        'Cobra', 'Boi', 'Cavalo', 'Rato', 'Golfinho', \n",
    "        'Leão', 'Onça', 'Elefante', 'Girafa', 'Raposa', \n",
    "        'Pinguim', 'Jacaré', 'Panda', 'Tartaruga', 'Porco']"
   ]
  },
  {
   "cell_type": "markdown",
   "metadata": {},
   "source": [
    "Criando RDD"
   ]
  },
  {
   "cell_type": "code",
   "execution_count": 9,
   "metadata": {},
   "outputs": [],
   "source": [
    "animais = spark.sparkContext.parallelize(list)"
   ]
  },
  {
   "cell_type": "markdown",
   "metadata": {},
   "source": [
    "Ordenando RDD"
   ]
  },
  {
   "cell_type": "code",
   "execution_count": 10,
   "metadata": {},
   "outputs": [
    {
     "name": "stderr",
     "output_type": "stream",
     "text": [
      "                                                                                \r"
     ]
    },
    {
     "data": {
      "text/plain": [
       "['Arara',\n",
       " 'Boi',\n",
       " 'Cachorro',\n",
       " 'Cavalo',\n",
       " 'Cobra',\n",
       " 'Elefante',\n",
       " 'Gato',\n",
       " 'Girafa',\n",
       " 'Golfinho',\n",
       " 'Jacaré',\n",
       " 'Leão',\n",
       " 'Macaco',\n",
       " 'Onça',\n",
       " 'Panda',\n",
       " 'Pinguim',\n",
       " 'Porco',\n",
       " 'Raposa',\n",
       " 'Rato',\n",
       " 'Tamandua',\n",
       " 'Tartaruga']"
      ]
     },
     "execution_count": 10,
     "metadata": {},
     "output_type": "execute_result"
    }
   ],
   "source": [
    "animais.sortBy(lambda x : x).collect()"
   ]
  },
  {
   "cell_type": "markdown",
   "metadata": {},
   "source": [
    "Printando RDD"
   ]
  },
  {
   "cell_type": "code",
   "execution_count": 11,
   "metadata": {},
   "outputs": [
    {
     "name": "stdout",
     "output_type": "stream",
     "text": [
      "Arara\n",
      "Boi\n",
      "Cachorro\n",
      "Cavalo\n",
      "Cobra\n",
      "Elefante\n",
      "Gato\n",
      "Girafa\n",
      "Golfinho\n",
      "Jacaré\n",
      "Leão\n",
      "Macaco\n",
      "Onça\n",
      "Panda\n",
      "Pinguim\n",
      "Porco\n",
      "Raposa\n",
      "Rato\n",
      "Tamandua\n",
      "Tartaruga\n"
     ]
    }
   ],
   "source": [
    "for x in animais.sortBy(lambda x : x).collect():\n",
    "    print(x)"
   ]
  },
  {
   "cell_type": "markdown",
   "metadata": {},
   "source": [
    "Exportando para CSV"
   ]
  },
  {
   "cell_type": "code",
   "execution_count": 12,
   "metadata": {},
   "outputs": [],
   "source": [
    "row = Row(\"animal\")\n",
    "animais.map(row).toDF().write.csv('animais.csv', sep=';', header=True)"
   ]
  },
  {
   "cell_type": "markdown",
   "metadata": {},
   "source": [
    "# Lab 3\n",
    "\n"
   ]
  },
  {
   "cell_type": "markdown",
   "metadata": {},
   "source": [
    "## Passo a passo"
   ]
  },
  {
   "cell_type": "code",
   "execution_count": 13,
   "metadata": {},
   "outputs": [
    {
     "name": "stderr",
     "output_type": "stream",
     "text": [
      "                                                                                \r"
     ]
    }
   ],
   "source": [
    "df_nomes = spark.read.csv(\"nomes.csv\", header=True, inferSchema=True)"
   ]
  },
  {
   "cell_type": "code",
   "execution_count": 14,
   "metadata": {},
   "outputs": [
    {
     "data": {
      "text/plain": [
       "pyspark.sql.dataframe.DataFrame"
      ]
     },
     "execution_count": 14,
     "metadata": {},
     "output_type": "execute_result"
    }
   ],
   "source": [
    "type(df_nomes)"
   ]
  },
  {
   "cell_type": "code",
   "execution_count": 15,
   "metadata": {},
   "outputs": [
    {
     "name": "stdout",
     "output_type": "stream",
     "text": [
      "+--------+----+-----+----+\n",
      "|    nome|sexo|total| ano|\n",
      "+--------+----+-----+----+\n",
      "|Jennifer|   F|54336|1983|\n",
      "| Jessica|   F|45278|1983|\n",
      "|  Amanda|   F|33752|1983|\n",
      "|  Ashley|   F|33292|1983|\n",
      "|   Sarah|   F|27228|1983|\n",
      "+--------+----+-----+----+\n",
      "only showing top 5 rows\n",
      "\n"
     ]
    }
   ],
   "source": [
    "df_nomes.show(5)"
   ]
  },
  {
   "cell_type": "code",
   "execution_count": 16,
   "metadata": {},
   "outputs": [
    {
     "name": "stdout",
     "output_type": "stream",
     "text": [
      "root\n",
      " |-- nome: string (nullable = true)\n",
      " |-- sexo: string (nullable = true)\n",
      " |-- total: integer (nullable = true)\n",
      " |-- ano: integer (nullable = true)\n",
      "\n"
     ]
    }
   ],
   "source": [
    "df_nomes.printSchema()"
   ]
  },
  {
   "cell_type": "code",
   "execution_count": 17,
   "metadata": {},
   "outputs": [
    {
     "name": "stdout",
     "output_type": "stream",
     "text": [
      "+--------+----+\n",
      "|    nome|sexo|\n",
      "+--------+----+\n",
      "|Jennifer|   F|\n",
      "| Jessica|   F|\n",
      "|  Amanda|   F|\n",
      "|  Ashley|   F|\n",
      "|   Sarah|   F|\n",
      "+--------+----+\n",
      "only showing top 5 rows\n",
      "\n"
     ]
    }
   ],
   "source": [
    "df_nomes.select(df_nomes.nome, df_nomes.sexo).show(5)"
   ]
  },
  {
   "cell_type": "code",
   "execution_count": 18,
   "metadata": {},
   "outputs": [
    {
     "name": "stdout",
     "output_type": "stream",
     "text": [
      "+--------+----+------------+-----------+\n",
      "|    nome| ano|(ano > 1950)|(ano + 501)|\n",
      "+--------+----+------------+-----------+\n",
      "|Jennifer|1983|        true|       2484|\n",
      "| Jessica|1983|        true|       2484|\n",
      "|  Amanda|1983|        true|       2484|\n",
      "|  Ashley|1983|        true|       2484|\n",
      "|   Sarah|1983|        true|       2484|\n",
      "+--------+----+------------+-----------+\n",
      "only showing top 5 rows\n",
      "\n"
     ]
    }
   ],
   "source": [
    "df_select = df_nomes.select(df_nomes.nome,\n",
    "    df_nomes.ano,\n",
    "    df_nomes.ano > 1950,\n",
    "    df_nomes.ano + 501\n",
    ")\n",
    "df_select.show(5)"
   ]
  },
  {
   "cell_type": "code",
   "execution_count": 19,
   "metadata": {},
   "outputs": [
    {
     "name": "stdout",
     "output_type": "stream",
     "text": [
      "+--------+----+-----+----+------+\n",
      "|    nome|sexo|total| ano|ano ++|\n",
      "+--------+----+-----+----+------+\n",
      "|Jennifer|   F|54336|1983|  2484|\n",
      "| Jessica|   F|45278|1983|  2484|\n",
      "|  Amanda|   F|33752|1983|  2484|\n",
      "|  Ashley|   F|33292|1983|  2484|\n",
      "|   Sarah|   F|27228|1983|  2484|\n",
      "+--------+----+-----+----+------+\n",
      "only showing top 5 rows\n",
      "\n"
     ]
    }
   ],
   "source": [
    "df_teste = df_nomes.withColumn('nome', df_nomes.nome).withColumn('ano ++', df_nomes.ano + 501)\n",
    "    \n",
    "df_teste .show(5)"
   ]
  },
  {
   "cell_type": "code",
   "execution_count": 20,
   "metadata": {},
   "outputs": [
    {
     "name": "stderr",
     "output_type": "stream",
     "text": [
      "/home/guilherme.cunha/.local/lib/python3.10/site-packages/pyspark/sql/dataframe.py:229: FutureWarning: Deprecated in 2.0, use createOrReplaceTempView instead.\n",
      "  warnings.warn(\"Deprecated in 2.0, use createOrReplaceTempView instead.\", FutureWarning)\n"
     ]
    }
   ],
   "source": [
    "df_nomes.registerTempTable(\"pessoas\")"
   ]
  },
  {
   "cell_type": "code",
   "execution_count": 21,
   "metadata": {},
   "outputs": [
    {
     "name": "stdout",
     "output_type": "stream",
     "text": [
      "+--------+\n",
      "|count(1)|\n",
      "+--------+\n",
      "| 1825433|\n",
      "+--------+\n",
      "\n"
     ]
    },
    {
     "name": "stderr",
     "output_type": "stream",
     "text": [
      "                                                                                \r"
     ]
    }
   ],
   "source": [
    "SQLContext.sql(\"select count(*) from pessoas\").show()"
   ]
  },
  {
   "cell_type": "code",
   "execution_count": 22,
   "metadata": {},
   "outputs": [
    {
     "name": "stdout",
     "output_type": "stream",
     "text": [
      "+--------+----+------+\n",
      "|    nome| ano|futuro|\n",
      "+--------+----+------+\n",
      "|Jennifer|1983|  2083|\n",
      "| Jessica|1983|  2083|\n",
      "|  Amanda|1983|  2083|\n",
      "|  Ashley|1983|  2083|\n",
      "|   Sarah|1983|  2083|\n",
      "+--------+----+------+\n",
      "only showing top 5 rows\n",
      "\n"
     ]
    }
   ],
   "source": [
    "SQLContext.sql(\"SELECT nome, ano, ano + 100 as futuro FROM pessoas\").show(5)"
   ]
  },
  {
   "cell_type": "code",
   "execution_count": 23,
   "metadata": {},
   "outputs": [
    {
     "name": "stdout",
     "output_type": "stream",
     "text": [
      "+--------+----+\n",
      "|    nome| ano|\n",
      "+--------+----+\n",
      "|  Ashley|1991|\n",
      "| Jessica|1991|\n",
      "|Brittany|1991|\n",
      "|  Amanda|1991|\n",
      "|Samantha|1991|\n",
      "+--------+----+\n",
      "only showing top 5 rows\n",
      "\n"
     ]
    }
   ],
   "source": [
    "df_nomes.filter(df_nomes.ano > 1990).select(df_nomes.nome, df_nomes.ano).show(5)"
   ]
  },
  {
   "cell_type": "code",
   "execution_count": 24,
   "metadata": {},
   "outputs": [
    {
     "name": "stderr",
     "output_type": "stream",
     "text": [
      "[Stage 27:===========================================>              (6 + 2) / 8]\r"
     ]
    },
    {
     "name": "stdout",
     "output_type": "stream",
     "text": [
      "+-------+----+\n",
      "|   nome| ano|\n",
      "+-------+----+\n",
      "| Aaisha|1991|\n",
      "| Aakash|1991|\n",
      "|Aaliyah|1991|\n",
      "| Aamber|1991|\n",
      "|Aaminah|1991|\n",
      "+-------+----+\n",
      "only showing top 5 rows\n",
      "\n"
     ]
    },
    {
     "name": "stderr",
     "output_type": "stream",
     "text": [
      "                                                                                \r"
     ]
    }
   ],
   "source": [
    "df_nomes.filter(df_nomes.ano > 1990).select(df_nomes.nome, df_nomes.ano).orderBy(df_nomes.ano, df_nomes.nome).show(5)"
   ]
  },
  {
   "cell_type": "code",
   "execution_count": 25,
   "metadata": {},
   "outputs": [
    {
     "name": "stdout",
     "output_type": "stream",
     "text": [
      "+--------+----+\n",
      "|    nome| ano|\n",
      "+--------+----+\n",
      "|   Zyyon|2014|\n",
      "|Zytaveon|2014|\n",
      "| Zyshawn|2014|\n",
      "|   Zyrus|2014|\n",
      "|   Zyron|2014|\n",
      "+--------+----+\n",
      "only showing top 5 rows\n",
      "\n"
     ]
    },
    {
     "name": "stderr",
     "output_type": "stream",
     "text": [
      "                                                                                \r"
     ]
    }
   ],
   "source": [
    "df_nomes.filter(df_nomes.ano > 1990).select(df_nomes.nome, df_nomes.ano).orderBy(df_nomes.ano.desc(), df_nomes.nome.desc()).show(5)"
   ]
  },
  {
   "cell_type": "code",
   "execution_count": 26,
   "metadata": {},
   "outputs": [
    {
     "name": "stdout",
     "output_type": "stream",
     "text": [
      "+--------+----+-------+\n",
      "|    nome| ano|recente|\n",
      "+--------+----+-------+\n",
      "|Jennifer|1983|  false|\n",
      "| Jessica|1983|  false|\n",
      "|  Amanda|1983|  false|\n",
      "|  Ashley|1983|  false|\n",
      "|   Sarah|1983|  false|\n",
      "+--------+----+-------+\n",
      "only showing top 5 rows\n",
      "\n"
     ]
    }
   ],
   "source": [
    "df_nomes.select(\"nome\", \"ano\", (df_nomes.ano > 2000).alias('recente')).show(5)"
   ]
  },
  {
   "cell_type": "code",
   "execution_count": 27,
   "metadata": {},
   "outputs": [
    {
     "name": "stdout",
     "output_type": "stream",
     "text": [
      "+--------+----+-------+\n",
      "|    nome| ano|recente|\n",
      "+--------+----+-------+\n",
      "|Jennifer|1983|  false|\n",
      "| Jessica|1983|  false|\n",
      "|  Amanda|1983|  false|\n",
      "|  Ashley|1983|  false|\n",
      "|   Sarah|1983|  false|\n",
      "+--------+----+-------+\n",
      "only showing top 5 rows\n",
      "\n"
     ]
    }
   ],
   "source": [
    "spark.sql(\"select nome, ano, ano>2000 as recente FROM pessoas\").show(5)"
   ]
  },
  {
   "cell_type": "code",
   "execution_count": 28,
   "metadata": {},
   "outputs": [
    {
     "name": "stderr",
     "output_type": "stream",
     "text": [
      "[Stage 31:==================================================>       (7 + 1) / 8]\r"
     ]
    },
    {
     "name": "stdout",
     "output_type": "stream",
     "text": [
      "+----+-----+\n",
      "| ano|count|\n",
      "+----+-----+\n",
      "|1990|24713|\n",
      "|1988|22358|\n",
      "|1994|25997|\n",
      "|1991|25104|\n",
      "|1989|23767|\n",
      "+----+-----+\n",
      "only showing top 5 rows\n",
      "\n"
     ]
    },
    {
     "name": "stderr",
     "output_type": "stream",
     "text": [
      "                                                                                \r"
     ]
    }
   ],
   "source": [
    "df_nomes.groupBy('ano').count().show(5)"
   ]
  },
  {
   "cell_type": "markdown",
   "metadata": {},
   "source": [
    "## Exercicios"
   ]
  },
  {
   "cell_type": "markdown",
   "metadata": {},
   "source": [
    "### Exercicío 1"
   ]
  },
  {
   "cell_type": "markdown",
   "metadata": {},
   "source": [
    "#### Qual o sexo que mais aparece"
   ]
  },
  {
   "cell_type": "markdown",
   "metadata": {},
   "source": [
    "Agrupando e contando baseado na coluna 'sexo'"
   ]
  },
  {
   "cell_type": "code",
   "execution_count": 29,
   "metadata": {},
   "outputs": [
    {
     "name": "stderr",
     "output_type": "stream",
     "text": [
      "[Stage 34:=======>                                                  (1 + 7) / 8]\r"
     ]
    },
    {
     "name": "stdout",
     "output_type": "stream",
     "text": [
      "+----+-------+\n",
      "|sexo|  count|\n",
      "+----+-------+\n",
      "|   F|1081683|\n",
      "|   M| 743750|\n",
      "+----+-------+\n",
      "\n"
     ]
    },
    {
     "name": "stderr",
     "output_type": "stream",
     "text": [
      "                                                                                \r"
     ]
    }
   ],
   "source": [
    "df_nomes.groupBy('sexo').count().show()"
   ]
  },
  {
   "cell_type": "markdown",
   "metadata": {},
   "source": [
    "Utilizando a API de sql para realizar a mesma consulta acima"
   ]
  },
  {
   "cell_type": "code",
   "execution_count": 30,
   "metadata": {},
   "outputs": [
    {
     "name": "stderr",
     "output_type": "stream",
     "text": [
      "[Stage 37:=======>                                                  (1 + 7) / 8]\r"
     ]
    },
    {
     "name": "stdout",
     "output_type": "stream",
     "text": [
      "+----+-----------+\n",
      "|sexo|count(sexo)|\n",
      "+----+-----------+\n",
      "|   F|    1081683|\n",
      "|   M|     743750|\n",
      "+----+-----------+\n",
      "\n"
     ]
    },
    {
     "name": "stderr",
     "output_type": "stream",
     "text": [
      "                                                                                \r"
     ]
    }
   ],
   "source": [
    "spark.sql(\"SELECT sexo, count(sexo) FROM pessoas GROUP BY sexo\").show()"
   ]
  },
  {
   "cell_type": "markdown",
   "metadata": {},
   "source": [
    "#### Qual foi a diferença entre o sexo Masculino e o Feminino"
   ]
  },
  {
   "cell_type": "markdown",
   "metadata": {},
   "source": [
    "Realizando a mesma contagem do exercicio anterior, porém, salvando a tabela para utilizar futuramente sob o prefixo 'sex'"
   ]
  },
  {
   "cell_type": "code",
   "execution_count": 31,
   "metadata": {},
   "outputs": [],
   "source": [
    "spark.sql(\"SELECT sexo, count(sexo) as soma FROM pessoas GROUP BY sexo\").registerTempTable('sex')"
   ]
  },
  {
   "cell_type": "markdown",
   "metadata": {},
   "source": [
    "Realizando a diferença entre os dois valores presentes na tabela criada acima"
   ]
  },
  {
   "cell_type": "code",
   "execution_count": 32,
   "metadata": {},
   "outputs": [
    {
     "name": "stdout",
     "output_type": "stream",
     "text": [
      "+---------+\n",
      "|diferenca|\n",
      "+---------+\n",
      "|   337933|\n",
      "+---------+\n",
      "\n"
     ]
    }
   ],
   "source": [
    "spark.sql('select MAX(soma)-MIN(soma) as diferenca from sex').show()"
   ]
  },
  {
   "cell_type": "markdown",
   "metadata": {},
   "source": [
    "### Exercicío 2 - \n",
    "Crie uma nova coluna no DataFrame que contenha apenas números. Nesta coluna chamada RANKING deverá ter o número que representa a colocação do nome na lista, sendo o número 1 o nome mais usado em todos os anos."
   ]
  },
  {
   "cell_type": "markdown",
   "metadata": {},
   "source": [
    "Ordenando o dataframe baseado primeiramente na coluna 'total' e após baseado na coluna 'nome'"
   ]
  },
  {
   "cell_type": "code",
   "execution_count": 33,
   "metadata": {},
   "outputs": [],
   "source": [
    "df_nomes = df_nomes.orderBy(col(\"total\").desc(),col(\"nome\").desc())"
   ]
  },
  {
   "cell_type": "markdown",
   "metadata": {},
   "source": [
    "Adicionando uma nova coluna denominada 'RANKING' que contém um indice definido pelo método 'monotonically_increasing_id', o '+1' é necessário pois o método inicia a contagem no indice 0"
   ]
  },
  {
   "cell_type": "code",
   "execution_count": 34,
   "metadata": {},
   "outputs": [],
   "source": [
    "df_nomes = df_nomes.select(\"*\").withColumn(\"RANKING\", monotonically_increasing_id()+1)"
   ]
  },
  {
   "cell_type": "markdown",
   "metadata": {},
   "source": [
    "Verificando"
   ]
  },
  {
   "cell_type": "code",
   "execution_count": 35,
   "metadata": {},
   "outputs": [
    {
     "name": "stderr",
     "output_type": "stream",
     "text": [
      "[Stage 47:=======>                                                  (1 + 7) / 8]\r"
     ]
    },
    {
     "name": "stdout",
     "output_type": "stream",
     "text": [
      "+-------+----+-----+----+-------+\n",
      "|   nome|sexo|total| ano|RANKING|\n",
      "+-------+----+-----+----+-------+\n",
      "|  Linda|   F|99680|1947|      1|\n",
      "|  Linda|   F|96205|1948|      2|\n",
      "|  James|   M|94755|1947|      3|\n",
      "|Michael|   M|92709|1957|      4|\n",
      "| Robert|   M|91642|1947|      5|\n",
      "|  Linda|   F|91010|1949|      6|\n",
      "|Michael|   M|90633|1956|      7|\n",
      "|Michael|   M|90519|1958|      8|\n",
      "|  James|   M|88596|1948|      9|\n",
      "|Michael|   M|88485|1954|     10|\n",
      "|   John|   M|88318|1947|     11|\n",
      "|Michael|   M|88283|1955|     12|\n",
      "|  James|   M|87425|1946|     13|\n",
      "|  James|   M|87175|1951|     14|\n",
      "|  James|   M|87083|1952|     15|\n",
      "|Michael|   M|86916|1961|     16|\n",
      "|  James|   M|86856|1949|     17|\n",
      "| Robert|   M|86572|1952|     18|\n",
      "| Robert|   M|86327|1951|     19|\n",
      "|  James|   M|86277|1954|     20|\n",
      "+-------+----+-----+----+-------+\n",
      "only showing top 20 rows\n",
      "\n"
     ]
    },
    {
     "name": "stderr",
     "output_type": "stream",
     "text": [
      "                                                                                \r"
     ]
    }
   ],
   "source": [
    "df_nomes.show(20)"
   ]
  },
  {
   "cell_type": "markdown",
   "metadata": {},
   "source": [
    "### Exercicío 3 - \n",
    "Crie 03 novas colunas no DataFrame que contenha apenas Sim e Não. Cada coluna deve-se chamar DECADA_80, DECADA_90, DECADA_00 e o conteúdo deve ser SIM ou NÃO  de acordo com o ano definido na tabela."
   ]
  },
  {
   "cell_type": "markdown",
   "metadata": {},
   "source": [
    "Definindo uma função que identifica se o primeiro ano passado corresponde a década do segundo ano passo como parametro, retorna string 'sim' ou 'nao'"
   ]
  },
  {
   "cell_type": "code",
   "execution_count": 36,
   "metadata": {},
   "outputs": [],
   "source": [
    "def check_year(ano_name, ano_col):\n",
    "    decada = ano_name - (ano_name%10)\n",
    "    result = 'SIM' if ano_name >= ano_col and ano_name < ano_col+10 else 'NAO'\n",
    "    return result"
   ]
  },
  {
   "cell_type": "markdown",
   "metadata": {},
   "source": [
    "Definindo a função acima como uma UDF"
   ]
  },
  {
   "cell_type": "code",
   "execution_count": 37,
   "metadata": {},
   "outputs": [],
   "source": [
    "decada = udf(check_year, StringType())"
   ]
  },
  {
   "cell_type": "markdown",
   "metadata": {},
   "source": [
    "Criando três colunas e utilizando a udf 'decada' para checar se o ano corresponde a decada informada na coluna"
   ]
  },
  {
   "cell_type": "code",
   "execution_count": 38,
   "metadata": {},
   "outputs": [],
   "source": [
    "df_nomes = df_nomes.select(\"*\").withColumn(\"DECADA_80\", decada('ano', lit(1980))).withColumn(\"DECADA_90\", decada('ano', lit(1990))).withColumn(\"DECADA_00\", decada('ano', lit(2000)))"
   ]
  },
  {
   "cell_type": "markdown",
   "metadata": {},
   "source": [
    "Verificando"
   ]
  },
  {
   "cell_type": "code",
   "execution_count": 39,
   "metadata": {},
   "outputs": [
    {
     "name": "stderr",
     "output_type": "stream",
     "text": [
      "[Stage 51:=====================>                                    (3 + 5) / 8]\r"
     ]
    },
    {
     "name": "stdout",
     "output_type": "stream",
     "text": [
      "+-------+----+-----+----+-------+---------+---------+---------+\n",
      "|   nome|sexo|total| ano|RANKING|DECADA_80|DECADA_90|DECADA_00|\n",
      "+-------+----+-----+----+-------+---------+---------+---------+\n",
      "|  Linda|   F|99680|1947|      1|      NAO|      NAO|      NAO|\n",
      "|  Linda|   F|96205|1948|      2|      NAO|      NAO|      NAO|\n",
      "|  James|   M|94755|1947|      3|      NAO|      NAO|      NAO|\n",
      "|Michael|   M|92709|1957|      4|      NAO|      NAO|      NAO|\n",
      "| Robert|   M|91642|1947|      5|      NAO|      NAO|      NAO|\n",
      "|  Linda|   F|91010|1949|      6|      NAO|      NAO|      NAO|\n",
      "|Michael|   M|90633|1956|      7|      NAO|      NAO|      NAO|\n",
      "|Michael|   M|90519|1958|      8|      NAO|      NAO|      NAO|\n",
      "|  James|   M|88596|1948|      9|      NAO|      NAO|      NAO|\n",
      "|Michael|   M|88485|1954|     10|      NAO|      NAO|      NAO|\n",
      "|   John|   M|88318|1947|     11|      NAO|      NAO|      NAO|\n",
      "|Michael|   M|88283|1955|     12|      NAO|      NAO|      NAO|\n",
      "|  James|   M|87425|1946|     13|      NAO|      NAO|      NAO|\n",
      "|  James|   M|87175|1951|     14|      NAO|      NAO|      NAO|\n",
      "|  James|   M|87083|1952|     15|      NAO|      NAO|      NAO|\n",
      "|Michael|   M|86916|1961|     16|      NAO|      NAO|      NAO|\n",
      "|  James|   M|86856|1949|     17|      NAO|      NAO|      NAO|\n",
      "| Robert|   M|86572|1952|     18|      NAO|      NAO|      NAO|\n",
      "| Robert|   M|86327|1951|     19|      NAO|      NAO|      NAO|\n",
      "|  James|   M|86277|1954|     20|      NAO|      NAO|      NAO|\n",
      "+-------+----+-----+----+-------+---------+---------+---------+\n",
      "only showing top 20 rows\n",
      "\n"
     ]
    },
    {
     "name": "stderr",
     "output_type": "stream",
     "text": [
      "                                                                                \r"
     ]
    }
   ],
   "source": [
    "df_nomes.show()"
   ]
  },
  {
   "cell_type": "markdown",
   "metadata": {},
   "source": [
    "### Exercicío 4 - \n",
    "Remova do Dataframe a coluna DECADA_00 e mostrar o novo Dataframe."
   ]
  },
  {
   "cell_type": "markdown",
   "metadata": {},
   "source": [
    "Removendo a coluna 'DECADA_00'"
   ]
  },
  {
   "cell_type": "code",
   "execution_count": 40,
   "metadata": {},
   "outputs": [],
   "source": [
    "df_nomes = df_nomes.drop('DECADA_00')"
   ]
  },
  {
   "cell_type": "markdown",
   "metadata": {},
   "source": [
    "Verificando"
   ]
  },
  {
   "cell_type": "code",
   "execution_count": 41,
   "metadata": {},
   "outputs": [
    {
     "name": "stderr",
     "output_type": "stream",
     "text": [
      "[Stage 55:=======>                                                  (1 + 7) / 8]\r"
     ]
    },
    {
     "name": "stdout",
     "output_type": "stream",
     "text": [
      "+-------+----+-----+----+-------+---------+---------+\n",
      "|   nome|sexo|total| ano|RANKING|DECADA_80|DECADA_90|\n",
      "+-------+----+-----+----+-------+---------+---------+\n",
      "|  Linda|   F|99680|1947|      1|      NAO|      NAO|\n",
      "|  Linda|   F|96205|1948|      2|      NAO|      NAO|\n",
      "|  James|   M|94755|1947|      3|      NAO|      NAO|\n",
      "|Michael|   M|92709|1957|      4|      NAO|      NAO|\n",
      "| Robert|   M|91642|1947|      5|      NAO|      NAO|\n",
      "|  Linda|   F|91010|1949|      6|      NAO|      NAO|\n",
      "|Michael|   M|90633|1956|      7|      NAO|      NAO|\n",
      "|Michael|   M|90519|1958|      8|      NAO|      NAO|\n",
      "|  James|   M|88596|1948|      9|      NAO|      NAO|\n",
      "|Michael|   M|88485|1954|     10|      NAO|      NAO|\n",
      "|   John|   M|88318|1947|     11|      NAO|      NAO|\n",
      "|Michael|   M|88283|1955|     12|      NAO|      NAO|\n",
      "|  James|   M|87425|1946|     13|      NAO|      NAO|\n",
      "|  James|   M|87175|1951|     14|      NAO|      NAO|\n",
      "|  James|   M|87083|1952|     15|      NAO|      NAO|\n",
      "|Michael|   M|86916|1961|     16|      NAO|      NAO|\n",
      "|  James|   M|86856|1949|     17|      NAO|      NAO|\n",
      "| Robert|   M|86572|1952|     18|      NAO|      NAO|\n",
      "| Robert|   M|86327|1951|     19|      NAO|      NAO|\n",
      "|  James|   M|86277|1954|     20|      NAO|      NAO|\n",
      "+-------+----+-----+----+-------+---------+---------+\n",
      "only showing top 20 rows\n",
      "\n"
     ]
    },
    {
     "name": "stderr",
     "output_type": "stream",
     "text": [
      "                                                                                \r"
     ]
    }
   ],
   "source": [
    "df_nomes.show()"
   ]
  },
  {
   "cell_type": "markdown",
   "metadata": {},
   "source": [
    "### Exercicío 5 - \n",
    "Gerar dois arquivos CSV. O primeiro com os nomes do sexo masculino nascidos na década de 80. O segundo com os nomes do sexo feminino nascidos na década de 80."
   ]
  },
  {
   "cell_type": "markdown",
   "metadata": {},
   "source": [
    "Criando view"
   ]
  },
  {
   "cell_type": "code",
   "execution_count": 42,
   "metadata": {},
   "outputs": [],
   "source": [
    "df_nomes.createOrReplaceTempView('temp')"
   ]
  },
  {
   "cell_type": "markdown",
   "metadata": {},
   "source": [
    "Criando um dataframe somente com pessoas do sexo feminino nascidas na década de 80"
   ]
  },
  {
   "cell_type": "code",
   "execution_count": 43,
   "metadata": {},
   "outputs": [],
   "source": [
    "f_80 = spark.sql('select * from temp where sexo = \"F\" and ano between 1980 and 1989 order by RANKING asc')"
   ]
  },
  {
   "cell_type": "markdown",
   "metadata": {},
   "source": [
    "Exportando para csv"
   ]
  },
  {
   "cell_type": "code",
   "execution_count": 44,
   "metadata": {},
   "outputs": [
    {
     "name": "stderr",
     "output_type": "stream",
     "text": [
      "                                                                                \r"
     ]
    }
   ],
   "source": [
    "f_80.write.csv('output',mode='append')"
   ]
  },
  {
   "cell_type": "markdown",
   "metadata": {},
   "source": [
    "Criando um dataframe somente com pessoas do sexo masculino nascidas na década de 80"
   ]
  },
  {
   "cell_type": "code",
   "execution_count": 45,
   "metadata": {},
   "outputs": [],
   "source": [
    "m_80 = spark.sql('select * from temp where sexo = \"M\" and ano between 1980 and 1989 order by RANKING asc')"
   ]
  },
  {
   "cell_type": "markdown",
   "metadata": {},
   "source": [
    "Exportando para csv"
   ]
  },
  {
   "cell_type": "code",
   "execution_count": 46,
   "metadata": {},
   "outputs": [
    {
     "name": "stderr",
     "output_type": "stream",
     "text": [
      "                                                                                \r"
     ]
    }
   ],
   "source": [
    "m_80.write.csv('output',mode='append')"
   ]
  },
  {
   "cell_type": "code",
   "execution_count": null,
   "metadata": {},
   "outputs": [],
   "source": []
  }
 ],
 "metadata": {
  "kernelspec": {
   "display_name": "Python 3.10.6 64-bit",
   "language": "python",
   "name": "python3"
  },
  "language_info": {
   "codemirror_mode": {
    "name": "ipython",
    "version": 3
   },
   "file_extension": ".py",
   "mimetype": "text/x-python",
   "name": "python",
   "nbconvert_exporter": "python",
   "pygments_lexer": "ipython3",
   "version": "3.10.4"
  },
  "orig_nbformat": 4,
  "vscode": {
   "interpreter": {
    "hash": "916dbcbb3f70747c44a77c7bcd40155683ae19c65e1c03b4aa3499c5328201f1"
   }
  }
 },
 "nbformat": 4,
 "nbformat_minor": 2
}
