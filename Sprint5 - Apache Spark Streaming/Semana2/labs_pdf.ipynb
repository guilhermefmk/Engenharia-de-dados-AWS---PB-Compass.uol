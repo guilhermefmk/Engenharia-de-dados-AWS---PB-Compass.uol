{
 "cells": [
  {
   "cell_type": "code",
   "execution_count": null,
   "metadata": {},
   "outputs": [],
   "source": [
    "from pyspark import SparkContext\n",
    "from pyspark.streaming import StreamingContext\n",
    "from pyspark.sql import SparkSession\n",
    "from pyspark.sql.functions import explode,split,window,current_timestamp,col\n",
    "from pyspark.sql.types import TimestampType"
   ]
  },
  {
   "cell_type": "code",
   "execution_count": null,
   "metadata": {},
   "outputs": [],
   "source": [
    "sc = SparkContext(\"local[2]\", \"ContarOalavrasStreaming\")\n",
    "\n",
    "def atualizer(novos_valores, ultimos_valores):\n",
    "    return sum(novos_valores) + (ultimos_valores or 0)\n",
    "\n",
    "ssc = StreamingContext(sc,10)\n",
    "\n",
    "dados = ssc.socketTextStream(\"localhost\", 3456)\n",
    "\n",
    "palavras = dados.flatMap(lambda linha: linha.split(\" \"))\n",
    "pares = palavras.map(lambda palavra: (palavra, 1))\n",
    "contagem = pares.updateStateByKey(atualizer)\n",
    "\n",
    "contagem.pprint()\n",
    "\n",
    "ssc.checkpoint(\"checkpoint\")\n",
    "\n",
    "ssc.start()\n",
    "\n",
    "ssc.awaitTermination()"
   ]
  },
  {
   "cell_type": "code",
   "execution_count": null,
   "metadata": {},
   "outputs": [],
   "source": [
    "from pyspark import SparkContext\n",
    "\n",
    "\n",
    "sc = SparkContext('local[2]', 'Contarstreaming')\n",
    "sc.setLogLevel('ERROR')\n",
    "\n",
    "spark = SparkSession.builder.appName(\"Teste\").getOrCreate()\n",
    "\n",
    "linhas = spark.readStream \\\n",
    "    .format(\"socket\") \\\n",
    "    .option(\"host\",\"localhost\") \\\n",
    "    .option(\"port\",3456)\\\n",
    "    .option(\"includeTimestamp\", \"true\")\\\n",
    "    .load()\n",
    "\n",
    "\n",
    "palavras = linhas.select(\n",
    "            explode(split(linhas.value, \" \")).alias(\"palavra\"),\n",
    "            linhas.timestamp\n",
    ")\n",
    "\n",
    "contagem = palavras \\\n",
    "    .groupBy(\n",
    "        window(col('timestamp'), \"2 minutes\", \"1 minutes\"),\n",
    "        col('palavra')) \\\n",
    "    .count()\n",
    "\n",
    "\n",
    "consulta = contagem.writeStream\\\n",
    "    .outputMode(\"append\")\\\n",
    "    .format(\"csv\")\\\n",
    "    .option(\"checkpointLocation\", \"checkpoint_folder\")\\\n",
    "    .option(\"path\", \"teste\")\\\n",
    "    .start()\\\n",
    "    .awaitTermination()\n",
    "    \n",
    "\n"
   ]
  },
  {
   "cell_type": "code",
   "execution_count": null,
   "metadata": {},
   "outputs": [],
   "source": [
    "\n",
    "\n",
    "sc = SparkContext(\"local[2]\", \"ContarOalavrasStreaming\")\n",
    "\n",
    "ssc = StreamingContext(sc,10)\n",
    "\n",
    "dados = ssc.socketTextStream(\"localhost\", 3456)\n",
    "\n",
    "palavras = dados.flatMap(lambda linha: linha.split(\" \"))\n",
    "pares = palavras.map(lambda palavra: (palavra, 1))\n",
    "contagem = pares.reduceByKey(lambda x,y : x+y)\n",
    "\n",
    "contagem.pprint()\n",
    "\n",
    "\n",
    "\n",
    "ssc.start()\n",
    "\n",
    "ssc.awaitTermination()"
   ]
  }
 ],
 "metadata": {
  "kernelspec": {
   "display_name": "Python 3.10.8 64-bit",
   "language": "python",
   "name": "python3"
  },
  "language_info": {
   "name": "python",
   "version": "3.10.8"
  },
  "orig_nbformat": 4,
  "vscode": {
   "interpreter": {
    "hash": "7d6993cb2f9ce9a59d5d7380609d9cb5192a9dedd2735a011418ad9e827eb538"
   }
  }
 },
 "nbformat": 4,
 "nbformat_minor": 2
}
