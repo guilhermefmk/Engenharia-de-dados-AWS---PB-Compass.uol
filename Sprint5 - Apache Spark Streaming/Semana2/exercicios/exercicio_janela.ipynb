{
 "cells": [
  {
   "cell_type": "code",
   "execution_count": 1,
   "metadata": {},
   "outputs": [
    {
     "name": "stderr",
     "output_type": "stream",
     "text": [
      "Setting default log level to \"WARN\".\n",
      "To adjust logging level use sc.setLogLevel(newLevel). For SparkR, use setLogLevel(newLevel).\n"
     ]
    },
    {
     "name": "stdout",
     "output_type": "stream",
     "text": [
      "22/11/22 13:10:41 WARN NativeCodeLoader: Unable to load native-hadoop library for your platform... using builtin-java classes where applicable\n",
      "22/11/22 13:10:42 WARN Utils: Service 'SparkUI' could not bind on port 4040. Attempting port 4041.\n"
     ]
    }
   ],
   "source": [
    "from pyspark import SparkContext\n",
    "from pyspark.sql import SparkSession\n",
    "from pyspark.sql.functions import explode,split,current_timestamp,timestamp_seconds,window\n",
    "from pyspark.sql.types import TimestampType\n",
    "\n",
    "\n",
    "sc = SparkContext()\n",
    "\n",
    "sc.setLogLevel('ERROR')\n",
    "\n",
    "\n",
    "spark = SparkSession \\\n",
    "    .builder \\\n",
    "    .appName('ContarPalavrasEstruturado') \\\n",
    "    .getOrCreate()"
   ]
  },
  {
   "cell_type": "code",
   "execution_count": 2,
   "metadata": {},
   "outputs": [],
   "source": [
    "linhas = spark.readStream \\\n",
    "    .format(\"socket\") \\\n",
    "    .option(\"host\",\"localhost\") \\\n",
    "    .option(\"port\",3456)\\\n",
    "    .option(\"includeTimestamp\",\"true\")\\\n",
    "    .load()"
   ]
  },
  {
   "cell_type": "code",
   "execution_count": 3,
   "metadata": {},
   "outputs": [],
   "source": [
    "palavras = linhas.select(\n",
    "            explode(\n",
    "                split(linhas.value, \" \")\n",
    "            ).alias(\"palavra\"),\n",
    "            linhas.timestamp\n",
    ")"
   ]
  },
  {
   "cell_type": "code",
   "execution_count": 4,
   "metadata": {},
   "outputs": [],
   "source": [
    "contagem = palavras.groupBy(\n",
    "\n",
    "        window(palavras.timestamp, \"10 minutes\", \"5 minutes\"),\n",
    "        palavras.palavra).count().orderBy('window')"
   ]
  },
  {
   "cell_type": "code",
   "execution_count": 6,
   "metadata": {},
   "outputs": [
    {
     "name": "stderr",
     "output_type": "stream",
     "text": [
      "                                                                                \r"
     ]
    },
    {
     "name": "stdout",
     "output_type": "stream",
     "text": [
      "-------------------------------------------\n",
      "Batch: 0\n",
      "-------------------------------------------\n",
      "+------+-------+-----+\n",
      "|window|palavra|count|\n",
      "+------+-------+-----+\n",
      "+------+-------+-----+\n",
      "\n"
     ]
    },
    {
     "name": "stderr",
     "output_type": "stream",
     "text": [
      "                                                                                \r"
     ]
    },
    {
     "name": "stdout",
     "output_type": "stream",
     "text": [
      "-------------------------------------------\n",
      "Batch: 1\n",
      "-------------------------------------------\n",
      "+------------------------------------------+-------+-----+\n",
      "|window                                    |palavra|count|\n",
      "+------------------------------------------+-------+-----+\n",
      "|{2022-11-22 13:05:00, 2022-11-22 13:15:00}|ver    |3    |\n",
      "|{2022-11-22 13:10:00, 2022-11-22 13:20:00}|ver    |3    |\n",
      "+------------------------------------------+-------+-----+\n",
      "\n"
     ]
    }
   ],
   "source": [
    "consulta = contagem.writeStream\\\n",
    "        .outputMode(\"complete\")\\\n",
    "        .format(\"console\")\\\n",
    "        .option(\"truncate\",\"false\")\\\n",
    "        .start()\n"
   ]
  }
 ],
 "metadata": {
  "kernelspec": {
   "display_name": "Python 3.10.8 64-bit",
   "language": "python",
   "name": "python3"
  },
  "language_info": {
   "codemirror_mode": {
    "name": "ipython",
    "version": 3
   },
   "file_extension": ".py",
   "mimetype": "text/x-python",
   "name": "python",
   "nbconvert_exporter": "python",
   "pygments_lexer": "ipython3",
   "version": "3.10.8"
  },
  "orig_nbformat": 4,
  "vscode": {
   "interpreter": {
    "hash": "7d6993cb2f9ce9a59d5d7380609d9cb5192a9dedd2735a011418ad9e827eb538"
   }
  }
 },
 "nbformat": 4,
 "nbformat_minor": 2
}
